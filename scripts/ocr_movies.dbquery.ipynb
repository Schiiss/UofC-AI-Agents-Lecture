{
 "cells": [
  {
   "cell_type": "code",
   "execution_count": 0,
   "metadata": {
    "application/vnd.databricks.v1+cell": {
     "cellMetadata": {},
     "inputWidgets": {},
     "nuid": "64f06305-ff8d-4eec-b797-97956b153838",
     "showTitle": false,
     "tableResultSettingsMap": {},
     "title": ""
    }
   },
   "outputs": [],
   "source": [
    "SET STATEMENT_TIMEOUT = 86400; -- 24 hours in seconds\n",
    "DECLARE parse_extensions ARRAY<STRING> DEFAULT array('.pdf', '.jpg', '.jpeg', '.png');\n",
    "CREATE TABLE IDENTIFIER(:destinationTableName) AS (\n",
    "-- Parse documents with ai_parse\n",
    "WITH all_files AS (\n",
    "  SELECT\n",
    "    path,\n",
    "    content\n",
    "  FROM\n",
    "    READ_FILES(:sourceVolumePath, format => 'binaryFile')\n",
    "  ORDER BY\n",
    "    path ASC\n",
    "  LIMIT INT(:limit)\n",
    "),\n",
    "repartitioned_files AS (\n",
    "  SELECT *\n",
    "  FROM all_files\n",
    "  -- Force Spark to split into partitions\n",
    "  DISTRIBUTE BY crc32(path) % INT(:partitionCount)\n",
    "),\n",
    "-- Parse the files using ai_parse document\n",
    "parsed_documents AS (\n",
    "  SELECT\n",
    "    path,\n",
    "    ai_parse_document(content) as parsed\n",
    "  FROM\n",
    "    repartitioned_files\n",
    "  WHERE array_contains(parse_extensions, lower(regexp_extract(path, r'(\\.[^.]+)$', 1)))\n",
    "),\n",
    "raw_documents AS (\n",
    "  SELECT\n",
    "    path,\n",
    "    null as raw_parsed,\n",
    "    decode(content, 'utf-8') as text,\n",
    "    null as error_status\n",
    "  FROM \n",
    "    repartitioned_files\n",
    "  WHERE NOT array_contains(parse_extensions, lower(regexp_extract(path, r'(\\.[^.]+)$', 1)))\n",
    "),\n",
    "-- Mark documents with ai_parse errors\n",
    "error_documents AS (\n",
    "  SELECT\n",
    "    path,\n",
    "    parsed as raw_parsed,\n",
    "    null as text,\n",
    "    try_cast(parsed:error_status AS STRING) AS error_status\n",
    "  FROM\n",
    "    parsed_documents\n",
    "  WHERE try_cast(parsed:error_status AS STRING) IS NOT NULL\n",
    "),\n",
    "-- Extract content from ai_parse_document output for all successful parses\n",
    "sorted_contents AS (\n",
    "  SELECT\n",
    "    path,\n",
    "    element:content AS content\n",
    "  FROM\n",
    "    (\n",
    "      SELECT\n",
    "        path,\n",
    "          posexplode(\n",
    "            CASE\n",
    "              WHEN try_cast(parsed:metadata:version AS STRING) = '1.0' \n",
    "              THEN try_cast(parsed:document:pages AS ARRAY<VARIANT>)\n",
    "              ELSE try_cast(parsed:document:elements AS ARRAY<VARIANT>)\n",
    "            END\n",
    "          ) AS (idx, element)\n",
    "      FROM\n",
    "        parsed_documents\n",
    "      WHERE try_cast(parsed:error_status AS STRING) IS NULL\n",
    "    )\n",
    "  ORDER BY\n",
    "    idx\n",
    "),\n",
    "-- Concatenate so we have 1 row per document\n",
    "concatenated AS (\n",
    "    SELECT\n",
    "        path,\n",
    "        concat_ws('\n",
    "\n",
    "', collect_list(content)) AS full_content\n",
    "    FROM\n",
    "        sorted_contents\n",
    "    WHERE content IS NOT NULL\n",
    "    GROUP BY\n",
    "        path\n",
    "),\n",
    "-- Bring back the raw parsing since it could be useful for other downstream uses\n",
    "with_raw AS (\n",
    "    SELECT\n",
    "        a.path,\n",
    "        b.parsed as raw_parsed,\n",
    "        a.full_content as text,\n",
    "        null as error_status\n",
    "    FROM concatenated a\n",
    "    JOIN parsed_documents b ON a.path = b.path\n",
    ")\n",
    "-- Recombine raw text documents with parsed documents\n",
    "SELECT *  FROM with_raw\n",
    "UNION ALL \n",
    "SELECT * FROM raw_documents\n",
    "UNION ALL\n",
    "SELECT * FROM error_documents\n",
    ");\n",
    "-- Display a sample from the table\n",
    "SELECT\n",
    "    *\n",
    "FROM IDENTIFIER(:destinationTableName)\n",
    "LIMIT 20"
   ]
  }
 ],
 "metadata": {
  "application/vnd.databricks.v1+notebook": {
   "computePreferences": null,
   "dashboards": [],
   "environmentMetadata": null,
   "inputWidgetPreferences": null,
   "language": "sql",
   "notebookMetadata": {
    "pythonIndentUnit": 4,
    "sqlQueryOptions": {
     "applyAutoLimit": true,
     "catalog": "workspace",
     "schema": "default"
    }
   },
   "notebookName": "ocr_movies.dbquery.ipynb",
   "widgets": {
    "destinationTableName": {
     "currentValue": "",
     "nuid": "3bed8888-66ad-4fa7-94f4-ef38e8bb516f",
     "typedWidgetInfo": {
      "autoCreated": true,
      "defaultValue": "",
      "label": null,
      "name": "destinationTableName",
      "options": {
       "widgetDisplayType": "Text",
       "validationRegex": null
      },
      "parameterDataType": "String"
     },
     "widgetInfo": {
      "widgetType": "text",
      "defaultValue": "",
      "label": null,
      "name": "destinationTableName",
      "options": {
       "widgetType": "text",
       "autoCreated": true,
       "validationRegex": null
      }
     }
    },
    "limit": {
     "currentValue": "",
     "nuid": "d1caa335-ef8c-455a-9b8e-9836245abb35",
     "typedWidgetInfo": {
      "autoCreated": true,
      "defaultValue": "",
      "label": null,
      "name": "limit",
      "options": {
       "widgetDisplayType": "Text",
       "validationRegex": null
      },
      "parameterDataType": "String"
     },
     "widgetInfo": {
      "widgetType": "text",
      "defaultValue": "",
      "label": null,
      "name": "limit",
      "options": {
       "widgetType": "text",
       "autoCreated": true,
       "validationRegex": null
      }
     }
    },
    "partitionCount": {
     "currentValue": "",
     "nuid": "d13e3095-274d-450e-8860-b96c3a0014c9",
     "typedWidgetInfo": {
      "autoCreated": true,
      "defaultValue": "",
      "label": null,
      "name": "partitionCount",
      "options": {
       "widgetDisplayType": "Text",
       "validationRegex": null
      },
      "parameterDataType": "String"
     },
     "widgetInfo": {
      "widgetType": "text",
      "defaultValue": "",
      "label": null,
      "name": "partitionCount",
      "options": {
       "widgetType": "text",
       "autoCreated": true,
       "validationRegex": null
      }
     }
    },
    "sourceVolumePath": {
     "currentValue": "",
     "nuid": "0f1a5a7c-b73d-4c13-a0cf-14bbc74899a1",
     "typedWidgetInfo": {
      "autoCreated": true,
      "defaultValue": "",
      "label": null,
      "name": "sourceVolumePath",
      "options": {
       "widgetDisplayType": "Text",
       "validationRegex": null
      },
      "parameterDataType": "String"
     },
     "widgetInfo": {
      "widgetType": "text",
      "defaultValue": "",
      "label": null,
      "name": "sourceVolumePath",
      "options": {
       "widgetType": "text",
       "autoCreated": true,
       "validationRegex": null
      }
     }
    }
   }
  },
  "language_info": {
   "name": "sql"
  }
 },
 "nbformat": 4,
 "nbformat_minor": 0
}
