{
 "cells": [
  {
   "cell_type": "code",
   "execution_count": 0,
   "metadata": {
    "application/vnd.databricks.v1+cell": {
     "cellMetadata": {
      "byteLimit": 10485760,
      "rowLimit": 1000
     },
     "inputWidgets": {},
     "nuid": "2774c545-51d8-4722-9214-4b467105a875",
     "showTitle": false,
     "tableResultSettingsMap": {},
     "title": ""
    }
   },
   "outputs": [],
   "source": [
    "CREATE OR REPLACE TABLE movies.movies_db.movie_metadata AS\n",
    "SELECT\n",
    "  path,\n",
    "  text,\n",
    "  ai_extract(\n",
    "    text,\n",
    "    ARRAY('director', 'year_filmed', 'cast')\n",
    "  ) AS extracted_entities,\n",
    "  extracted_entities.director AS director,\n",
    "  extracted_entities.year_filmed AS year_filmed,\n",
    "  extracted_entities.cast AS cast\n",
    "FROM (\n",
    "  SELECT\n",
    "    path,\n",
    "    text,\n",
    "    ai_extract(\n",
    "      text,\n",
    "      ARRAY('director', 'year_filmed', 'cast')\n",
    "    ) AS extracted_entities\n",
    "  FROM movies.movies_db.ocr\n",
    ")"
   ]
  }
 ],
 "metadata": {
  "application/vnd.databricks.v1+notebook": {
   "computePreferences": null,
   "dashboards": [],
   "environmentMetadata": null,
   "inputWidgetPreferences": null,
   "language": "sql",
   "notebookMetadata": {
    "pythonIndentUnit": 4,
    "sqlQueryOptions": {
     "applyAutoLimit": true,
     "catalog": "workspace",
     "schema": "default"
    }
   },
   "notebookName": "sample_ai_extract_function.dbquery.ipynb",
   "widgets": {}
  },
  "language_info": {
   "name": "sql"
  }
 },
 "nbformat": 4,
 "nbformat_minor": 0
}
